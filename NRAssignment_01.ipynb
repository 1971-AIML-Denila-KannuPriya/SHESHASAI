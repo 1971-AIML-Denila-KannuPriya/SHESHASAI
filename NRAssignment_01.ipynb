{
 "cells": [
  {
   "cell_type": "markdown",
   "id": "89d55f4e-8a88-48da-8d50-be51ce8ecdbf",
   "metadata": {},
   "source": [
    "Q.NO: 01 Find the second largest element in a list (without using max() function)."
   ]
  },
  {
   "cell_type": "code",
   "execution_count": 15,
   "id": "c0337b75-8d42-4129-ba5a-357a699fa617",
   "metadata": {},
   "outputs": [
    {
     "name": "stdout",
     "output_type": "stream",
     "text": [
      "The second largest number is: 64\n"
     ]
    }
   ],
   "source": [
    "def find_second_largest(x):\n",
    "    return sorted(set(x))[-2]\n",
    "x = [54, 73, 64, 23, 44]\n",
    "print(\"The second largest number is:\", find_second_largest(x))"
   ]
  },
  {
   "cell_type": "markdown",
   "id": "f8227549-2d5b-432a-b374-408a93de1307",
   "metadata": {},
   "source": [
    "Q.NO: 02 Check if a number is prime.\n"
   ]
  },
  {
   "cell_type": "code",
   "execution_count": 19,
   "id": "e0076fa6-dac4-4aa9-83ac-b16341255923",
   "metadata": {},
   "outputs": [
    {
     "name": "stdout",
     "output_type": "stream",
     "text": [
      "29 is a prime number.\n"
     ]
    }
   ],
   "source": [
    "def is_prime(x):\n",
    "    if x <= 1:\n",
    "        return False\n",
    "    for i in range(2, x):\n",
    "        if x % i == 0:\n",
    "            return False\n",
    "    return True\n",
    "num = 29\n",
    "if is_prime(num):\n",
    "    print(f\"{num} is a prime number.\")\n",
    "else:\n",
    "    print(f\"{num} is not a prime number.\")"
   ]
  },
  {
   "cell_type": "markdown",
   "id": "6b1b6aad-9615-45cb-ad24-d6882ff54a13",
   "metadata": {},
   "source": [
    "Q.NO: 03 Write a Python program to reverse a string without using inbuilt functions.\n"
   ]
  },
  {
   "cell_type": "code",
   "execution_count": 1,
   "id": "2517bf1a-b439-486f-89be-fc540493b58d",
   "metadata": {},
   "outputs": [
    {
     "name": "stdout",
     "output_type": "stream",
     "text": [
      "Reversed string: erutaver\n"
     ]
    }
   ],
   "source": [
    "def reverse_string(s):\n",
    "    reversed_str = \"\"\n",
    "    for char in s:\n",
    "        reversed_str = char + reversed_str\n",
    "    return reversed_str\n",
    "\n",
    "string1 = \"revature\"\n",
    "result = reverse_string(string1)\n",
    "print(\"Reversed string:\", result)"
   ]
  },
  {
   "cell_type": "markdown",
   "id": "cc072929-49f1-4b1b-a76f-3b379cd7d75a",
   "metadata": {},
   "source": [
    "Q.NO: 04  Merge two sorted arrays into a single sorted array without using any built-in sort methods."
   ]
  },
  {
   "cell_type": "code",
   "execution_count": 25,
   "id": "2c232651-1736-495f-8736-d53e046259cd",
   "metadata": {},
   "outputs": [
    {
     "name": "stdout",
     "output_type": "stream",
     "text": [
      "Merged and sorted array: [1, 2, 3, 4, 1, 5, 7, 8]\n"
     ]
    }
   ],
   "source": [
    "def merge_sorted_arrays(arr1, arr2):\n",
    "    merged_array = []\n",
    "    i, j = 0, 0\n",
    "    while i < len(arr1) and j < len(arr2):\n",
    "        if arr1[i] < arr2[j]:\n",
    "            merged_array.append(arr1[i])\n",
    "            i += 1\n",
    "        else:\n",
    "            merged_array.append(arr2[j])\n",
    "            j += 1\n",
    "    while i < len(arr1):\n",
    "        merged_array.append(arr1[i])\n",
    "        i += 1\n",
    "    while j < len(arr2):\n",
    "        merged_array.append(arr2[j])\n",
    "        j += 1\n",
    "    return merged_array\n",
    "arr1 = [1, 3, 5, 7]\n",
    "arr2 = [2, 4, 1, 8]\n",
    "result = merge_sorted_arrays(arr1, arr2)\n",
    "print(\"Merged and sorted array:\", result)"
   ]
  },
  {
   "cell_type": "markdown",
   "id": "5c229402-5d8a-4406-9fe3-296177df9b55",
   "metadata": {},
   "source": [
    "Q.NO: 05 Write a program to calculate the factorial of a number using recursion."
   ]
  },
  {
   "cell_type": "code",
   "execution_count": 31,
   "id": "abec1b2b-7d95-4c7a-9359-e86af5a1e60f",
   "metadata": {},
   "outputs": [
    {
     "name": "stdout",
     "output_type": "stream",
     "text": [
      "The factorial of 5 is: 120\n"
     ]
    }
   ],
   "source": [
    "def factorial(n):\n",
    "    if n == 0 or n == 1:\n",
    "        return 1\n",
    "    else:\n",
    "        return n * factorial(n - 1)\n",
    "x = 5\n",
    "result = factorial(x)\n",
    "print(f\"The factorial of {x} is: {result}\")"
   ]
  },
  {
   "cell_type": "markdown",
   "id": "fb376f33-3458-493a-9285-53725e064278",
   "metadata": {},
   "source": [
    "Q.NO: 06 Find the largest contiguous subarray sum (Kadane’s Algorithm)"
   ]
  },
  {
   "cell_type": "code",
   "execution_count": 2,
   "id": "af7b2a28-f219-4271-9c68-e3b31f166333",
   "metadata": {},
   "outputs": [
    {
     "name": "stdout",
     "output_type": "stream",
     "text": [
      "The largest contiguous subarray sum is: 8\n"
     ]
    }
   ],
   "source": [
    "def max_subarray_sum(arr):\n",
    "    max_so_far = arr[0]\n",
    "    max_ending_here = arr[0]\n",
    "\n",
    "    for i in range(1, len(arr)):\n",
    "        max_ending_here = max(arr[i], max_ending_here + arr[i])\n",
    "        max_so_far = max(max_so_far, max_ending_here)\n",
    "    return max_so_far\n",
    "\n",
    "arr1 = [1, -4, -2, 5, 3, -7]\n",
    "result = max_subarray_sum(arr1)\n",
    "print(f\"The largest contiguous subarray sum is: {result}\")"
   ]
  },
  {
   "cell_type": "markdown",
   "id": "3c5b4a8f-0410-465f-919d-a386ea4464dc",
   "metadata": {},
   "source": [
    "Q.NO: 07 Check if a given string is a palindrome"
   ]
  },
  {
   "cell_type": "code",
   "execution_count": 3,
   "id": "f525587d-a713-48c5-bebb-b5e3637a5885",
   "metadata": {},
   "outputs": [
    {
     "name": "stdout",
     "output_type": "stream",
     "text": [
      "True\n"
     ]
    }
   ],
   "source": [
    "def is_palindrome(s):\n",
    "    s = s.replace(\" \", \"\").lower()\n",
    "    return s == s[::-1]\n",
    "string1 = \"Malayalam\"\n",
    "result = is_palindrome(string1)\n",
    "print(result)"
   ]
  },
  {
   "cell_type": "markdown",
   "id": "bfe00904-9911-4dd3-af30-143822ef564f",
   "metadata": {},
   "source": [
    "Q.NO: 08 Convert a decimal number to binary without using built-in functions."
   ]
  },
  {
   "cell_type": "code",
   "execution_count": 40,
   "id": "4edd915d-c8d3-427e-b318-2614fdda5956",
   "metadata": {},
   "outputs": [
    {
     "name": "stdout",
     "output_type": "stream",
     "text": [
      "The binary representation of 18 is: 10010\n"
     ]
    }
   ],
   "source": [
    "def decimal_to_binary(n):\n",
    "    if n == 0:\n",
    "        return \"0\"\n",
    "    binary = \"\"\n",
    "    while n > 0:\n",
    "        remainder = n % 2\n",
    "        binary = str(remainder) + binary\n",
    "        n = n // 2\n",
    "    return binary\n",
    "dec_num = 18\n",
    "binary_form = decimal_to_binary(dec_num)\n",
    "print(f\"The binary representation of {dec_num} is: {binary_form}\")"
   ]
  },
  {
   "cell_type": "markdown",
   "id": "8b715c9e-2178-4c0c-9dee-35cbb165191e",
   "metadata": {},
   "source": [
    "Q.NO: 09 Find pairs in an array with a given sum"
   ]
  },
  {
   "cell_type": "code",
   "execution_count": 5,
   "id": "95098258-8990-4b5e-a123-251139054eb0",
   "metadata": {},
   "outputs": [
    {
     "name": "stdout",
     "output_type": "stream",
     "text": [
      "Pairs that sum to 3: [(1, 2)]\n"
     ]
    }
   ],
   "source": [
    "def find_pairs_with_sum(arr, target_sum):\n",
    "    pairs = []\n",
    "    seen = set()\n",
    "    for number in arr:\n",
    "        complement = target_sum - number\n",
    "        if complement in seen:\n",
    "            pairs.append((complement, number))\n",
    "        seen.add(number)\n",
    "    return pairs\n",
    "arr1 = [1, 2, 3, 4, 5, 6]\n",
    "target = 3\n",
    "result = find_pairs_with_sum(arr1, target)\n",
    "print(f\"Pairs that sum to {target}: {result}\")"
   ]
  },
  {
   "cell_type": "markdown",
   "id": "45c32cdc-9270-47d2-87c5-1b927db2ea15",
   "metadata": {},
   "source": [
    "Q.NO: 10 Count the frequency of elements in a list"
   ]
  },
  {
   "cell_type": "code",
   "execution_count": 6,
   "id": "b3f95f4c-44f8-4171-8b87-15e2a66ef842",
   "metadata": {},
   "outputs": [
    {
     "name": "stdout",
     "output_type": "stream",
     "text": [
      "Frequency of elements: {1: 1, 3: 4, 4: 1, 5: 4, 6: 1, 2: 1}\n"
     ]
    }
   ],
   "source": [
    "def count_frequency(lst):\n",
    "    frequency = {}\n",
    "    for item in lst:\n",
    "        if item in frequency:\n",
    "            frequency[item] += 1\n",
    "        else:\n",
    "            frequency[item] = 1\n",
    "    return frequency\n",
    "list1 = [1,3,4,5,6,3,5,3,5,3,5,2]\n",
    "result = count_frequency(list1)\n",
    "print(\"Frequency of elements:\", result)"
   ]
  },
  {
   "cell_type": "markdown",
   "id": "5e507ee5-f56b-4b60-b0b4-6cf8bd739ad5",
   "metadata": {},
   "source": [
    "Q.NO: 11 Fibonacci sequence: Write a program to generate the first N numbers in the Fibonacci sequence using recursion."
   ]
  },
  {
   "cell_type": "code",
   "execution_count": 7,
   "id": "22b43ca9-c7b0-4843-a0ac-faa45a1724cf",
   "metadata": {},
   "outputs": [
    {
     "name": "stdout",
     "output_type": "stream",
     "text": [
      "The first 5 numbers in the Fibonacci sequence are: [0, 1, 1, 2, 3]\n"
     ]
    }
   ],
   "source": [
    "def fibonacci(n):\n",
    "    if n <= 0:\n",
    "        return []\n",
    "    elif n == 1:\n",
    "        return [0]\n",
    "    elif n == 2:\n",
    "        return [0, 1]\n",
    "    else:\n",
    "        fib_sequence = fibonacci(n - 1)\n",
    "        next_fib = fib_sequence[-1] + fib_sequence[-2]\n",
    "        fib_sequence.append(next_fib)\n",
    "        return fib_sequence\n",
    "N = 5\n",
    "result = fibonacci(N)\n",
    "print(f\"The first {N} numbers in the Fibonacci sequence are: {result}\")"
   ]
  },
  {
   "cell_type": "markdown",
   "id": "ff7cf26c-9319-4a44-9ce0-773d20a34479",
   "metadata": {},
   "source": [
    "Q.NO: 12 Remove duplicates from a list: Write a program to remove duplicate elements from a list while preserving the order of elements."
   ]
  },
  {
   "cell_type": "code",
   "execution_count": 8,
   "id": "b54cf468-ec88-4925-bb88-9d0f59cb5ce0",
   "metadata": {},
   "outputs": [
    {
     "name": "stdout",
     "output_type": "stream",
     "text": [
      "List after removing duplicates: [1, 2, 3, 4, 5]\n"
     ]
    }
   ],
   "source": [
    "def remove_duplicates(lst):\n",
    "    seen = set()\n",
    "    result = []\n",
    "    for item in lst:\n",
    "        if item not in seen:\n",
    "            seen.add(item)\n",
    "            result.append(item)\n",
    "    return result\n",
    "list1 = [1, 2, 3, 2, 4, 1, 5, 4]\n",
    "result = remove_duplicates(list1)\n",
    "print(\"List after removing duplicates:\", result)"
   ]
  },
  {
   "cell_type": "markdown",
   "id": "d928a1bf-bc38-4b0a-b6e2-6baceaed8f0b",
   "metadata": {},
   "source": [
    "Q.NO: 13 Anagram check: Write a Python function that checks if two strings are anagrams of each other (i.e., if they contain the same characters in any order)."
   ]
  },
  {
   "cell_type": "code",
   "execution_count": 49,
   "id": "8f82762d-9922-470a-9e2b-98ce69358481",
   "metadata": {},
   "outputs": [
    {
     "name": "stdout",
     "output_type": "stream",
     "text": [
      "True\n"
     ]
    }
   ],
   "source": [
    "def are_anagrams(str1, str2):\n",
    "    str1 = str1.replace(\" \", \"\").lower()\n",
    "    str2 = str2.replace(\" \", \"\").lower()\n",
    "    return sorted(str1) == sorted(str2)\n",
    "string1 = \"listen\"\n",
    "string2 = \"silent\"\n",
    "result = are_anagrams(string1, string2)\n",
    "print(result)"
   ]
  },
  {
   "cell_type": "markdown",
   "id": "2b266961-8b2a-44b0-b518-056706ba1c23",
   "metadata": {},
   "source": [
    "Q.NO: 14 Count vowels and consonants: Write a program that takes a string as input and counts the number of vowels and consonants in it."
   ]
  },
  {
   "cell_type": "code",
   "execution_count": 12,
   "id": "f404d405-5886-4c53-a9ee-69d0b0ea31fd",
   "metadata": {},
   "outputs": [
    {
     "name": "stdout",
     "output_type": "stream",
     "text": [
      "Vowels: 7, Consonants: 9\n"
     ]
    }
   ],
   "source": [
    "def count_vowels_and_consonants(str):\n",
    "    vowels = \"aeiouAEIOU\"\n",
    "    vowel_count = 0\n",
    "    consonant_count = 0\n",
    "    for char in str:\n",
    "        if char.isalpha():\n",
    "            if char in vowels:\n",
    "                vowel_count += 1\n",
    "            else:\n",
    "                consonant_count += 1\n",
    "    return vowel_count, consonant_count\n",
    "str = \"How are you friends?\"\n",
    "vowels, consonants = count_vowels_and_consonants(str)\n",
    "print(f\"Vowels: {vowels}, Consonants: {consonants}\")"
   ]
  },
  {
   "cell_type": "markdown",
   "id": "0f99e169-a8ae-4ebd-9f19-708657597b9f",
   "metadata": {},
   "source": [
    "Q.NO: 15  Binary search algorithm: Implement the binary search algorithm for a sorted list and return the index of a target value."
   ]
  },
  {
   "cell_type": "code",
   "execution_count": 13,
   "id": "15e6c54d-cbb8-4c4a-baa7-bb56b2802035",
   "metadata": {},
   "outputs": [
    {
     "name": "stdout",
     "output_type": "stream",
     "text": [
      "Target 9 found at index: 4\n"
     ]
    }
   ],
   "source": [
    "def binary_search(sorted_list, target):\n",
    "    left, right = 0, len(sorted_list) - 1\n",
    "\n",
    "    while left <= right:\n",
    "        mid = (left + right) // 2\n",
    "\n",
    "        if sorted_list[mid] == target:\n",
    "            return mid\n",
    "        elif sorted_list[mid] < target:\n",
    "            left = mid + 1\n",
    "        else:\n",
    "            right = mid - 1\n",
    "    return -1\n",
    "    \n",
    "sorted_list = [1, 3, 5, 7, 9, 11, 13, 15, 17]\n",
    "target_value = 9\n",
    "result = binary_search(sorted_list, target_value)\n",
    "if result != -1:\n",
    "    print(f\"Target {target_value} found at index: {result}\")\n",
    "else:\n",
    "    print(f\"Target {target_value} not found in the list.\")"
   ]
  },
  {
   "cell_type": "markdown",
   "id": "d917b8dd-cd9f-4459-9f6b-f6f3f8eb11e0",
   "metadata": {},
   "source": [
    "Q.NO: 16 Check if a list is sorted: Write a function to check if a given list is sorted in ascending order."
   ]
  },
  {
   "cell_type": "code",
   "execution_count": 62,
   "id": "e83e902b-08cd-458b-bf25-f7315937ba83",
   "metadata": {},
   "outputs": [
    {
     "name": "stdout",
     "output_type": "stream",
     "text": [
      "The list is not sorted.\n"
     ]
    }
   ],
   "source": [
    "def is_sorted(lst):\n",
    "    for i in range(len(lst) - 1):\n",
    "        if lst[i] > lst[i + 1]:\n",
    "            return False\n",
    "    return True\n",
    "\n",
    "list1 = [1, 7, 3, 4, 5]\n",
    "result = is_sorted(list1)\n",
    "\n",
    "if result:\n",
    "    print(\"The list is sorted in ascending order.\")\n",
    "else:\n",
    "    print(\"The list is not sorted.\")"
   ]
  },
  {
   "cell_type": "markdown",
   "id": "7148da19-909f-4d4e-b842-0e23c044ff98",
   "metadata": {},
   "source": [
    "Q.NO: 17 Transpose of a matrix: Given a matrix (2D list), write a Python function to calculate the transpose of the matrix."
   ]
  },
  {
   "cell_type": "code",
   "execution_count": 65,
   "id": "b29c35d0-4e1c-4b33-89a6-f3ad72295bdf",
   "metadata": {},
   "outputs": [
    {
     "name": "stdout",
     "output_type": "stream",
     "text": [
      "Transposed Matrix:\n",
      "[2, 7, 9]\n",
      "[3, 4, 1]\n",
      "[5, 6, 8]\n"
     ]
    }
   ],
   "source": [
    "def transpose_matrix(matrix):\n",
    "    rows = len(matrix)\n",
    "    cols = len(matrix[0]) if rows > 0 else 0\n",
    "    transposed = []\n",
    "\n",
    "    for col in range(cols):\n",
    "        new_row = []\n",
    "        for row in range(rows):\n",
    "            new_row.append(matrix[row][col])\n",
    "        transposed.append(new_row)\n",
    "    return transposed\n",
    "\n",
    "matrix = [\n",
    "    [2, 3, 5],\n",
    "    [7, 4, 6],\n",
    "    [9, 1, 8]\n",
    "]\n",
    "result = transpose_matrix(matrix)\n",
    "print(\"Transposed Matrix:\")\n",
    "for row in result:\n",
    "    print(row)"
   ]
  },
  {
   "cell_type": "markdown",
   "id": "73e92dbd-8172-4e8b-ba42-8fd501fa03a1",
   "metadata": {},
   "source": [
    "Q.NO: 18 Sum of digits of a number: Write a recursive function to find the sum of digits of a given number"
   ]
  },
  {
   "cell_type": "code",
   "execution_count": 69,
   "id": "a86bc1f0-aeb8-4188-b2ed-51132e6c5de2",
   "metadata": {},
   "outputs": [
    {
     "name": "stdout",
     "output_type": "stream",
     "text": [
      "The sum of the digits of 143 is: 8\n"
     ]
    }
   ],
   "source": [
    "def sum_of_digits(n):\n",
    "    if n == 0:\n",
    "        return 0\n",
    "    else:\n",
    "        return n % 10 + sum_of_digits(n // 10)\n",
    "number = 143\n",
    "result = sum_of_digits(number)\n",
    "print(f\"The sum of the digits of {number} is: {result}\")"
   ]
  },
  {
   "cell_type": "markdown",
   "id": "8885f8a2-f277-4e95-99e4-b03e3e8d5c1e",
   "metadata": {},
   "source": [
    "Q.NO: 19 Intersection of two lists: Write a program that finds the intersection of two lists (i.e.,common elements between them)."
   ]
  },
  {
   "cell_type": "code",
   "execution_count": 70,
   "id": "106c9b3a-bc6e-4bbf-83ac-98b696c6882e",
   "metadata": {},
   "outputs": [
    {
     "name": "stdout",
     "output_type": "stream",
     "text": [
      "The intersection of the two lists is: [4, 5]\n"
     ]
    }
   ],
   "source": [
    "def intersection(list1, list2):\n",
    "    common_elements = []\n",
    "    for item in list1:\n",
    "        if item in list2:\n",
    "            common_elements.append(item)\n",
    "\n",
    "    return common_elements\n",
    "    \n",
    "list1 = [1, 2, 3, 4, 5]\n",
    "list2 = [4, 5, 6, 7, 8]\n",
    "result = intersection(list1, list2)\n",
    "print(f\"The intersection of the two lists is: {result}\")"
   ]
  },
  {
   "cell_type": "markdown",
   "id": "73a43802-e0df-4d38-b07c-47b588d451c5",
   "metadata": {},
   "source": [
    "Q.NO: 20 Find all permutations of a string: Write a program to find all permutations of a given string."
   ]
  },
  {
   "cell_type": "code",
   "execution_count": 15,
   "id": "9359e4e7-3a90-4ca8-a1ec-748c6912b1df",
   "metadata": {},
   "outputs": [
    {
     "name": "stdout",
     "output_type": "stream",
     "text": [
      "All permutations of the string 'red' are:\n",
      "red\n",
      "rde\n",
      "erd\n",
      "edr\n",
      "dre\n",
      "der\n"
     ]
    }
   ],
   "source": [
    "def permute(s, current_permutation=\"\"):\n",
    "    if len(s) == 0:\n",
    "        print(current_permutation)\n",
    "    else:\n",
    "        for i in range(len(s)):\n",
    "            new_s = s[:i] + s[i+1:]\n",
    "            permute(new_s, current_permutation + s[i])\n",
    "str = \"red\"\n",
    "print(f\"All permutations of the string '{str}' are:\")\n",
    "permute(str)"
   ]
  }
 ],
 "metadata": {
  "kernelspec": {
   "display_name": "Python 3 (ipykernel)",
   "language": "python",
   "name": "python3"
  },
  "language_info": {
   "codemirror_mode": {
    "name": "ipython",
    "version": 3
   },
   "file_extension": ".py",
   "mimetype": "text/x-python",
   "name": "python",
   "nbconvert_exporter": "python",
   "pygments_lexer": "ipython3",
   "version": "3.12.4"
  }
 },
 "nbformat": 4,
 "nbformat_minor": 5
}
